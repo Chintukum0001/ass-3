{
 "cells": [
  {
   "cell_type": "code",
   "execution_count": 3,
   "id": "4960021f",
   "metadata": {},
   "outputs": [
    {
     "name": "stdout",
     "output_type": "stream",
     "text": [
      "even number in series : 4\n",
      "odd number in series : 5\n"
     ]
    }
   ],
   "source": [
    "series = [11,12,13,14,15,16,17,18,19]\n",
    "even_count=0\n",
    "odd_count=0\n",
    "\n",
    "for i in series:\n",
    "    if i%2==0:\n",
    "        even_count+=1\n",
    "        \n",
    "    else:\n",
    "        \n",
    "        odd_count+=1\n",
    "    \n",
    "print(\"even number in series :\", even_count)\n",
    "print(\"odd number in series :\", odd_count)\n",
    "    "
   ]
  },
  {
   "cell_type": "code",
   "execution_count": null,
   "id": "6743e1b6",
   "metadata": {},
   "outputs": [],
   "source": []
  }
 ],
 "metadata": {
  "kernelspec": {
   "display_name": "Python 3 (ipykernel)",
   "language": "python",
   "name": "python3"
  },
  "language_info": {
   "codemirror_mode": {
    "name": "ipython",
    "version": 3
   },
   "file_extension": ".py",
   "mimetype": "text/x-python",
   "name": "python",
   "nbconvert_exporter": "python",
   "pygments_lexer": "ipython3",
   "version": "3.10.1"
  }
 },
 "nbformat": 4,
 "nbformat_minor": 5
}
